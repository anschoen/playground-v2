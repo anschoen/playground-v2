{
    "nbformat_minor": 1, 
    "cells": [
        {
            "execution_count": 1, 
            "cell_type": "code", 
            "metadata": {}, 
            "outputs": [
                {
                    "output_type": "stream", 
                    "name": "stdout", 
                    "text": "- seaborn=0.9.0=py35_0\r\n"
                }
            ], 
            "source": "! conda env export | grep seaborn"
        }, 
        {
            "execution_count": 8, 
            "cell_type": "code", 
            "metadata": {}, 
            "outputs": [
                {
                    "output_type": "stream", 
                    "name": "stdout", 
                    "text": "Fetching package metadata ...........\nSolving package specifications: .\n\n# All requested packages already installed.\n# packages in environment at /opt/conda/envs/DSX-Python35:\n#\nseaborn                   0.9.0                    py35_0  \n"
                }
            ], 
            "source": "! conda update seaborn --dry-run"
        }, 
        {
            "execution_count": 3, 
            "cell_type": "code", 
            "metadata": {}, 
            "outputs": [
                {
                    "output_type": "stream", 
                    "name": "stdout", 
                    "text": "# Please add conda channels here\r\nchannels:\r\n- defaults\r\n\r\n# Please add conda packages here\r\ndependencies:\r\n- seaborn=0.9.0\r\n\r\n# Please add pip packages here\r\n# To add pip packages, please comment out the next line\r\n#- pip:\r\n\r\n"
                }
            ], 
            "source": "! cat /var/pod/custom/conda-env-update.yml"
        }, 
        {
            "execution_count": 5, 
            "cell_type": "code", 
            "metadata": {}, 
            "outputs": [
                {
                    "output_type": "stream", 
                    "name": "stdout", 
                    "text": "find: \u2018/opt/ibm/build/base\u2019: Permission denied\nfind: \u2018/opt/ibm/build/python35\u2019: Permission denied\nfind: \u2018/opt/ibm/build/jupyter\u2019: Permission denied\nfind: \u2018/var/cache/ldconfig\u2019: Permission denied\nfind: \u2018/var/lib/machines\u2019: Permission denied\nfind: \u2018/var/lib/yum/history/2018-05-31/1\u2019: Permission denied\nfind: \u2018/var/lib/yum/history/2018-05-31/2\u2019: Permission denied\nfind: \u2018/var/lib/yum/history/2018-05-31/3\u2019: Permission denied\n/var/log/yum.log\n/var/pod/logs/kernel-DSX-Python35-20181030_142914.log\n/var/pod/logs/jupyter.log\n/var/pod/logs/jupyter-20181030_142828.log\n/var/pod/logs/status-20181030_142804.log\n/var/pod/logs/customization-20181030_142804.log\n/var/pod/logs/sidecar-20181030_142804.log\nfind: \u2018/root\u2019: Permission denied\nfind: \u2018/tmp\u2019: Permission denied\n/usr/lib/rpm/rpm.log\nfind: \u2018/proc/tty/driver\u2019: Permission denied\nfind: \u2018/proc/1/task/1/fd\u2019: Permission denied\nfind: \u2018/proc/1/task/1/fdinfo\u2019: Permission denied\nfind: \u2018/proc/1/task/1/ns\u2019: Permission denied\nfind: \u2018/proc/1/fd\u2019: Permission denied\nfind: \u2018/proc/1/map_files\u2019: Permission denied\nfind: \u2018/proc/1/fdinfo\u2019: Permission denied\nfind: \u2018/proc/1/ns\u2019: Permission denied\n"
                }
            ], 
            "source": "! find / -name '*.log'"
        }, 
        {
            "execution_count": 6, 
            "cell_type": "code", 
            "metadata": {}, 
            "outputs": [
                {
                    "output_type": "stream", 
                    "name": "stdout", 
                    "text": "customization-20181030_142804.log  kernel-DSX-Python35-20181030_142914.log\r\njupyter-20181030_142828.log\t   sidecar-20181030_142804.log\r\njupyter.log\t\t\t   status-20181030_142804.log\r\n"
                }
            ], 
            "source": "! ls /var/pod/logs"
        }, 
        {
            "execution_count": 7, 
            "cell_type": "code", 
            "metadata": {}, 
            "outputs": [
                {
                    "output_type": "stream", 
                    "name": "stdout", 
                    "text": "/var/pod/logs/customization-20181030_142804.log\r\nCustomizations to apply in DSX-Python35:\r\n--------------------------------------------------------------\r\n# Please add conda channels here\r\nchannels:\r\n- defaults\r\n\r\n# Please add conda packages here\r\ndependencies:\r\n- seaborn=0.9.0\r\n\r\n# Please add pip packages here\r\n# To add pip packages, please comment out the next line\r\n#- pip:\r\n--------------------------------------------------------------\r\n\r\n+ conda env update -n DSX-Python35 -f /var/pod/custom/conda-env-update.yml\r\nFetching package metadata ...........\r\nSolving package specifications: .\r\n\r\n#\r\n# To activate this environment, use:\r\n# > source activate DSX-Python35\r\n#\r\n# To deactivate an active environment, use:\r\n# > source deactivate\r\n#\r\n\r\n"
                }
            ], 
            "source": "! cat /var/pod/logs/customization-20181030_142804.log "
        }, 
        {
            "execution_count": null, 
            "cell_type": "code", 
            "metadata": {}, 
            "outputs": [], 
            "source": ""
        }
    ], 
    "metadata": {
        "kernelspec": {
            "display_name": "Python 3.5", 
            "name": "python3", 
            "language": "python"
        }, 
        "language_info": {
            "mimetype": "text/x-python", 
            "nbconvert_exporter": "python", 
            "version": "3.5.5", 
            "name": "python", 
            "file_extension": ".py", 
            "pygments_lexer": "ipython3", 
            "codemirror_mode": {
                "version": 3, 
                "name": "ipython"
            }
        }
    }, 
    "nbformat": 4
}